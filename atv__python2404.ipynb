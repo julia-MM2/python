{
 "cells": [
  {
   "cell_type": "code",
   "execution_count": null,
   "metadata": {},
   "outputs": [],
   "source": [
    "L= []\n",
    "L= list()       #construtor de listas"
   ]
  },
  {
   "cell_type": "code",
   "execution_count": 13,
   "metadata": {},
   "outputs": [
    {
     "data": {
      "text/plain": [
       "3"
      ]
     },
     "execution_count": 13,
     "metadata": {},
     "output_type": "execute_result"
    }
   ],
   "source": [
    "dias= [3, 1, 10]\n",
    "\n",
    "dias[0]"
   ]
  },
  {
   "cell_type": "code",
   "execution_count": 14,
   "metadata": {},
   "outputs": [
    {
     "data": {
      "text/plain": [
       "1"
      ]
     },
     "execution_count": 14,
     "metadata": {},
     "output_type": "execute_result"
    }
   ],
   "source": [
    "dias[1]"
   ]
  },
  {
   "cell_type": "code",
   "execution_count": 15,
   "metadata": {},
   "outputs": [
    {
     "data": {
      "text/plain": [
       "10"
      ]
     },
     "execution_count": 15,
     "metadata": {},
     "output_type": "execute_result"
    }
   ],
   "source": [
    "dias[2]"
   ]
  },
  {
   "cell_type": "code",
   "execution_count": 19,
   "metadata": {},
   "outputs": [
    {
     "data": {
      "text/plain": [
       "[7, 8, 9]"
      ]
     },
     "execution_count": 19,
     "metadata": {},
     "output_type": "execute_result"
    }
   ],
   "source": [
    "Z= [3,8,9]\n",
    "#   0,1,2\n",
    "Z[0] = 7\n",
    "\n",
    "Z"
   ]
  },
  {
   "cell_type": "code",
   "execution_count": 22,
   "metadata": {},
   "outputs": [
    {
     "name": "stdout",
     "output_type": "stream",
     "text": [
      "True\n",
      "True\n",
      "[5, 7, 5, 8, 9]\n",
      "[5, 7, 5, 8, 9]\n"
     ]
    }
   ],
   "source": [
    "V= [6,7,5,8,9] #conteudo\n",
    "#   0,1,2,3,4\n",
    "L= V #deu o mesmo nome na memoria\n",
    "print(V==L) #compara conteudo\n",
    "print(V is L) #compara nome\n",
    "V[0]=5\n",
    "print(V)\n",
    "print(L)"
   ]
  },
  {
   "cell_type": "code",
   "execution_count": 23,
   "metadata": {},
   "outputs": [
    {
     "name": "stdout",
     "output_type": "stream",
     "text": [
      "True\n",
      "False\n",
      "[81, 82, 83]\n",
      "[5, 82, 83]\n"
     ]
    }
   ],
   "source": [
    "a= [81, 82, 83]\n",
    "b= a[:] #cria clone com fatia = sao iguais porem pode mudar individualmente  //  dois pontos sozinho pega todo o conteudo\n",
    "print(a==b)\n",
    "print(a is b)\n",
    "b[0]= 5\n",
    "print(a)\n",
    "print(b)"
   ]
  },
  {
   "cell_type": "code",
   "execution_count": 28,
   "metadata": {},
   "outputs": [
    {
     "name": "stdout",
     "output_type": "stream",
     "text": [
      "['b', 'c', 'd']\n",
      "['a', 'b', 'c', 'd']\n",
      "['d', 'e', 'f']\n",
      "['a', 'b', 'c', 'd', 'e', 'f']\n"
     ]
    }
   ],
   "source": [
    "uma_lista= ['a','b','c','d','e','f']\n",
    "print(uma_lista[1:4])  #intervalo do 1 elemento ate o 4 exclui o 4 elemento\n",
    "print(uma_lista[:4])   #dois pontos exclui oque vem depois do lado dele incluindo o numero agregado = até\n",
    "print(uma_lista[3:])   # x: = ->   :x = <-\n",
    "print(uma_lista[:])"
   ]
  },
  {
   "cell_type": "code",
   "execution_count": 30,
   "metadata": {},
   "outputs": [
    {
     "name": "stdout",
     "output_type": "stream",
     "text": [
      "3\n"
     ]
    }
   ],
   "source": [
    "a= [1, 2, 3]\n",
    "   #0,1,2\n",
    "b= a[:]\n",
    "b[0]= 5 \n",
    "print(a[2])"
   ]
  },
  {
   "cell_type": "code",
   "execution_count": 45,
   "metadata": {},
   "outputs": [
    {
     "name": "stdout",
     "output_type": "stream",
     "text": [
      "[76, 92.3, 'oi', 'true', 4, 'pitomba', 76]\n"
     ]
    }
   ],
   "source": [
    "#A\n",
    "D= [76, 92.3, 'oi', 'true', 4, 76] \n",
    "#D[5]= ['pitomba',76]  #errado\n",
    "D[5:]= 'pitomba',76\n",
    "print(D)\n"
   ]
  },
  {
   "cell_type": "code",
   "execution_count": 100,
   "metadata": {},
   "outputs": [
    {
     "name": "stdout",
     "output_type": "stream",
     "text": [
      "[76, 92.3, 'oi', 'cibele', 'true', 4, 76]\n"
     ]
    }
   ],
   "source": [
    "#A\n",
    "D= [76, 92.3, 'oi', 'true', 4, 76] \n",
    "#D[5]= ['pitomba',76]  #errado\n",
    "D[5:]= 'pitomba',76\n",
    "print(D)\n",
    "\n",
    "#B\n",
    "p1= [76, 92.3, 'oi', 'true', 4, 76] \n",
    "p1[3:]= 'cibele',\n",
    "p2= ['true', 4, 76]\n",
    "P = p1 + p2\n",
    "print(P)\n",
    "#print(p1[:3] + ['cibele'] + p1[3:])\n",
    "\n",
    "#C\n",
    "p1= [76, 92.3, 'oi', 'true', 4, 76] \n",
    "p2= [99]\n",
    "print(p2 + p1)\n",
    "\n",
    "#D\n",
    "p1= [76, 92.3, 'oi', 'true', 4, 76] \n",
    "if( p1[0] == 'oi'):\n",
    "  print('o indice procurado é 0')\n",
    "elif( p1[1] == 'oi'):\n",
    "  print('o indice procurado é 1')\n",
    "elif( p1[2] == 'oi'):\n",
    "  print('o indice procurado é 2')\n",
    "elif( p1[3] == 'oi'):\n",
    "  print('o indice procurado é 3')\n",
    "elif( p1[4] == 'oi'):\n",
    "  print('o indice procurado é 4')\n",
    "else:\n",
    "  print('o indice procurado é 5')\n",
    "\n",
    "#E\n",
    "p1= [76, 92.3, 'oi', 'true', 4, 76] \n",
    "p2= (p1[:3] + p1[4:])\n",
    "print(p2)"
   ]
  },
  {
   "cell_type": "code",
   "execution_count": 108,
   "metadata": {},
   "outputs": [
    {
     "name": "stdout",
     "output_type": "stream",
     "text": [
      "[99, 76, 92.3, 'oi', 'true', 4, 76]\n"
     ]
    }
   ],
   "source": [
    "#C\n",
    "p1= [76, 92.3, 'oi', 'true', 4, 76] \n",
    "p2= [99]\n",
    "print(p2 + p1)"
   ]
  },
  {
   "cell_type": "code",
   "execution_count": 110,
   "metadata": {},
   "outputs": [
    {
     "name": "stdout",
     "output_type": "stream",
     "text": [
      "o indice procurado é 2\n"
     ]
    }
   ],
   "source": [
    "#D\n",
    "p1= [76, 92.3, 'oi', 'true', 4, 76] \n",
    "if( p1[0] == 'oi'):\n",
    "  print('o indice procurado é 0')\n",
    "elif( p1[1] == 'oi'):\n",
    "  print('o indice procurado é 1')\n",
    "elif( p1[2] == 'oi'):\n",
    "  print('o indice procurado é 2')\n",
    "elif( p1[3] == 'oi'):\n",
    "  print('o indice procurado é 3')\n",
    "elif( p1[4] == 'oi'):\n",
    "  print('o indice procurado é 4')\n",
    "else:\n",
    "  print('o indice procurado é 5')\n"
   ]
  },
  {
   "cell_type": "code",
   "execution_count": 120,
   "metadata": {},
   "outputs": [
    {
     "name": "stdout",
     "output_type": "stream",
     "text": [
      "[76, 92.3, 'oi', 4, 76]\n"
     ]
    }
   ],
   "source": [
    "#E\n",
    "p1= [76, 92.3, 'oi', 'true', 4, 76] \n",
    "p2= (p1[:3] + p1[4:])\n",
    "print(p2)"
   ]
  },
  {
   "cell_type": "code",
   "execution_count": 2,
   "metadata": {},
   "outputs": [
    {
     "data": {
      "text/plain": [
       "(10, 20, 30)"
      ]
     },
     "execution_count": 2,
     "metadata": {},
     "output_type": "execute_result"
    }
   ],
   "source": [
    "tupla_nova = 10,20,30\n",
    "tupla_nova"
   ]
  },
  {
   "cell_type": "code",
   "execution_count": 3,
   "metadata": {},
   "outputs": [
    {
     "data": {
      "text/plain": [
       "()"
      ]
     },
     "execution_count": 3,
     "metadata": {},
     "output_type": "execute_result"
    }
   ],
   "source": [
    "tupla_nova= ()\n",
    "tupla_nova"
   ]
  },
  {
   "cell_type": "code",
   "execution_count": 4,
   "metadata": {},
   "outputs": [
    {
     "data": {
      "text/plain": [
       "('t', 'e', 's', 't', 'e')"
      ]
     },
     "execution_count": 4,
     "metadata": {},
     "output_type": "execute_result"
    }
   ],
   "source": [
    "tupla_nova =tuple('teste')\n",
    "tupla_nova"
   ]
  },
  {
   "cell_type": "code",
   "execution_count": 10,
   "metadata": {},
   "outputs": [
    {
     "name": "stdout",
     "output_type": "stream",
     "text": [
      "2\n",
      "0\n",
      "1\n",
      "3\n"
     ]
    }
   ],
   "source": [
    "tupla_nomes = ('Marlene','Zezinho','Marlene','Cibele','Zuely')\n",
    "print(tupla_nomes.count('Marlene'))\n",
    "print(tupla_nomes.count('Suely'))\n",
    "print(tupla_nomes.count('Zezinho'))\n",
    "\n",
    "tupla_numero = (1,2,2,3,4,4,4,5)\n",
    "print(tupla_numero.count(4))"
   ]
  },
  {
   "cell_type": "code",
   "execution_count": 8,
   "metadata": {},
   "outputs": [
    {
     "name": "stdout",
     "output_type": "stream",
     "text": [
      "3\n"
     ]
    }
   ],
   "source": []
  },
  {
   "cell_type": "code",
   "execution_count": null,
   "metadata": {},
   "outputs": [],
   "source": []
  }
 ],
 "metadata": {
  "kernelspec": {
   "display_name": "Python 3",
   "language": "python",
   "name": "python3"
  },
  "language_info": {
   "codemirror_mode": {
    "name": "ipython",
    "version": 3
   },
   "file_extension": ".py",
   "mimetype": "text/x-python",
   "name": "python",
   "nbconvert_exporter": "python",
   "pygments_lexer": "ipython3",
   "version": "3.11.4"
  }
 },
 "nbformat": 4,
 "nbformat_minor": 2
}
