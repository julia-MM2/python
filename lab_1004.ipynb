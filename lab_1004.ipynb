{
 "cells": [
  {
   "cell_type": "code",
   "execution_count": 84,
   "metadata": {},
   "outputs": [],
   "source": [
    "numero1 = int(input(\"Diga um número inteiro:\"))\n",
    "numero2 = int(input(\"Diga outro número inteiro:\"))\n",
    "numero3 = float(input(\"Agora diga um número real:\"))"
   ]
  },
  {
   "cell_type": "code",
   "execution_count": 99,
   "metadata": {},
   "outputs": [
    {
     "name": "stdout",
     "output_type": "stream",
     "text": [
      "2\n",
      "4\n",
      "1.5\n"
     ]
    }
   ],
   "source": [
    "print(numero1)\n",
    "print(numero2)\n",
    "print(numero3)"
   ]
  },
  {
   "cell_type": "code",
   "execution_count": 98,
   "metadata": {},
   "outputs": [
    {
     "data": {
      "text/plain": [
       "8.0"
      ]
     },
     "execution_count": 98,
     "metadata": {},
     "output_type": "execute_result"
    }
   ],
   "source": [
    "(numero1 * 2 )*(numero2 / 2 )"
   ]
  },
  {
   "cell_type": "code",
   "execution_count": 90,
   "metadata": {},
   "outputs": [
    {
     "data": {
      "text/plain": [
       "(7.5, 3.375)"
      ]
     },
     "execution_count": 90,
     "metadata": {},
     "output_type": "execute_result"
    }
   ],
   "source": [
    "(numero1 * 3) + numero3 , numero3 ** 3"
   ]
  },
  {
   "cell_type": "code",
   "execution_count": 96,
   "metadata": {},
   "outputs": [
    {
     "name": "stdout",
     "output_type": "stream",
     "text": [
      "o primeiro número é maior\n"
     ]
    }
   ],
   "source": [
    "numero_1 = float(input(\"Digite um número:\"))\n",
    "numero_2 = float(input(\"Digite outro numero:\"))\n",
    "if numero_1 > numero_2:\n",
    "  print(\"o primeiro número é maior\")\n",
    "else:\n",
    "  print(\"O segundo número é maior\")"
   ]
  },
  {
   "cell_type": "code",
   "execution_count": 113,
   "metadata": {},
   "outputs": [
    {
     "name": "stdout",
     "output_type": "stream",
     "text": [
      "O número é impar\n"
     ]
    }
   ],
   "source": [
    "a = float(input(\"Diga um número:\"))\n",
    "if a % 2 == 0:\n",
    "    print(\"O número é par\")\n",
    "else:\n",
    "    print(\"O número é impar\")"
   ]
  },
  {
   "cell_type": "code",
   "execution_count": null,
   "metadata": {},
   "outputs": [],
   "source": []
  }
 ],
 "metadata": {
  "kernelspec": {
   "display_name": "Python 3",
   "language": "python",
   "name": "python3"
  },
  "language_info": {
   "codemirror_mode": {
    "name": "ipython",
    "version": 3
   },
   "file_extension": ".py",
   "mimetype": "text/x-python",
   "name": "python",
   "nbconvert_exporter": "python",
   "pygments_lexer": "ipython3",
   "version": "3.12.2"
  }
 },
 "nbformat": 4,
 "nbformat_minor": 2
}
