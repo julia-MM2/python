{
 "cells": [
  {
   "cell_type": "code",
   "execution_count": 5,
   "metadata": {},
   "outputs": [
    {
     "name": "stdout",
     "output_type": "stream",
     "text": [
      "Voce vai pagar 5075.0 reais\n"
     ]
    }
   ],
   "source": [
    "#(ano do carro >= 1990) = imposto de 1,5% \n",
    "#(ano do carro < 1990) = imposto de 1%\n",
    "\n",
    "ano= int(input('Qual o ano do seu carro?'))\n",
    "valor=  float(input('qual o preço do seu carro?'))\n",
    "#carros de antes de 1990\n",
    "if ano < 1990:\n",
    "    taxa= (1/100 * valor)\n",
    "    valor= valor + taxa\n",
    "    print ('Voce vai pagar', valor ,'reais')\n",
    "#carros depois de 1990\n",
    "else:\n",
    "    taxa= (1.5/100 * valor)\n",
    "    valor= valor + taxa\n",
    "    print ('Voce vai pagar', valor, 'reais')"
   ]
  },
  {
   "cell_type": "code",
   "execution_count": 8,
   "metadata": {},
   "outputs": [
    {
     "name": "stdout",
     "output_type": "stream",
     "text": [
      "Seu salario antigo era 3000.0 Seu novo salario é 3300.0 A diferença é 300.0 reais\n"
     ]
    }
   ],
   "source": [
    "#101/gerente teve aumento de 10%\n",
    "#102/engenheiro teve aumento de 20%\n",
    "#103/tecnico teve aumento de 30%\n",
    "#outros tiveram aumento de 40%\n",
    "\n",
    "cargo= int(input('Diga o codigo do seu cargo:'))\n",
    "salario = float(input('Qual o seu salario atual?'))\n",
    "if (cargo == 101): \n",
    "    novo = salario + (10/100 * salario)\n",
    "    diferenca = novo - salario\n",
    "    print('Seu salario antigo era', salario, 'Seu novo salario é', novo, 'A diferença é', diferenca, 'reais')\n",
    "    #salario do gerente\n",
    "elif (cargo == 102):\n",
    "    novo = salario + (20/100 * salario)\n",
    "    diferencia = novo - salario\n",
    "    print('Seu salario antigo era', salario, 'Seu novo salario é', novo, 'A diferença é', diferenca, 'reais')\n",
    "#salario do engenheiro\n",
    "elif (cargo == 103):\n",
    "    novo = salario + (30/100 * salario)\n",
    "    diferenca = novo - salario\n",
    "    print('Seu salario antigo era', salario, 'Seu novo salario é', novo, 'A diferença é', diferenca, 'reais')\n",
    "#salario do tecnico\n",
    "else:\n",
    "    novo = salario + (40/100 * salario)\n",
    "    diferenca = novo - salario\n",
    "    print('Seu salario antigo era', salario, 'Seu novo salario é', novo, 'A diferença é', diferenca, 'reais')\n",
    "#salario de quem não é gerente, engenheiro ou tecnico"
   ]
  }
 ],
 "metadata": {
  "kernelspec": {
   "display_name": "Python 3",
   "language": "python",
   "name": "python3"
  },
  "language_info": {
   "codemirror_mode": {
    "name": "ipython",
    "version": 3
   },
   "file_extension": ".py",
   "mimetype": "text/x-python",
   "name": "python",
   "nbconvert_exporter": "python",
   "pygments_lexer": "ipython3",
   "version": "3.12.2"
  }
 },
 "nbformat": 4,
 "nbformat_minor": 2
}
