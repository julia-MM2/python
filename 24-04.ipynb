{
 "cells": [
  {
   "cell_type": "code",
   "execution_count": 16,
   "metadata": {},
   "outputs": [
    {
     "data": {
      "text/plain": [
       "[0, 1, 2, 3]"
      ]
     },
     "execution_count": 16,
     "metadata": {},
     "output_type": "execute_result"
    }
   ],
   "source": [
    "P= [0,1,2,3,]\n",
    "#   0,1,2,3,4\n",
    "P[:3]  #pega oque vem antes do terceiro elemento\n",
    "P[3:]  #pega do terceiro elemento em diante\n",
    "P[:]\n",
    "\n"
   ]
  },
  {
   "cell_type": "code",
   "execution_count": 5,
   "metadata": {},
   "outputs": [
    {
     "name": "stdout",
     "output_type": "stream",
     "text": [
      "[76, 92.3, 'oi', 'true', 4, 'pitomba', 76]\n"
     ]
    }
   ],
   "source": [
    "#A\n",
    "D= [76, 92.3, 'oi', 'true', 4, 76]\n",
    "#D[5]= ['pitomba',76]  #errado\n",
    "D[5:]= 'pitomba',76\n",
    "print(D)"
   ]
  },
  {
   "cell_type": "code",
   "execution_count": 17,
   "metadata": {},
   "outputs": [
    {
     "name": "stdout",
     "output_type": "stream",
     "text": [
      "[76, 92.3, 'oi', 'cibele', 'true', 4, 76]\n"
     ]
    }
   ],
   "source": [
    "#B\n",
    "p1= [76, 92.3, 'oi', 'true', 4, 76]\n",
    "p1[3:]= 'cibele',\n",
    "p2= ['true', 4, 76]\n",
    "P = p1 + p2\n",
    "print(P)\n",
    "#print(p1[:3] + ['cibele'] + p1[3:]) tambem serve"
   ]
  },
  {
   "cell_type": "code",
   "execution_count": 18,
   "metadata": {},
   "outputs": [
    {
     "name": "stdout",
     "output_type": "stream",
     "text": [
      "[99, 76, 92.3, 'oi', 'true', 4, 76]\n"
     ]
    }
   ],
   "source": [
    "#C\n",
    "p1= [76, 92.3, 'oi', 'true', 4, 76]\n",
    "p2= [99]\n",
    "print(p2 + p1)\n",
    " "
   ]
  },
  {
   "cell_type": "code",
   "execution_count": 19,
   "metadata": {},
   "outputs": [
    {
     "name": "stdout",
     "output_type": "stream",
     "text": [
      "o indice procurado é 2\n"
     ]
    }
   ],
   "source": [
    "#D\n",
    "p1= [76, 92.3, 'oi', 'true', 4, 76]\n",
    "if( p1[0] == 'oi'):\n",
    "  print('o indice procurado é 0')\n",
    "elif( p1[1] == 'oi'):\n",
    "  print('o indice procurado é 1')\n",
    "elif( p1[2] == 'oi'):\n",
    "  print('o indice procurado é 2')\n",
    "elif( p1[3] == 'oi'):\n",
    "  print('o indice procurado é 3')\n",
    "elif( p1[4] == 'oi'):\n",
    "  print('o indice procurado é 4')\n",
    "else:\n",
    "  print('o indice procurado é 5')"
   ]
  },
  {
   "cell_type": "code",
   "execution_count": 20,
   "metadata": {},
   "outputs": [
    {
     "name": "stdout",
     "output_type": "stream",
     "text": [
      "[76, 92.3, 'oi', 4, 76]\n"
     ]
    }
   ],
   "source": [
    " #E\n",
    "p1= [76, 92.3, 'oi', 'true', 4, 76]\n",
    "p2= (p1[:3] + p1[4:])\n",
    "print(p2)\n"
   ]
  },
  {
   "cell_type": "code",
   "execution_count": 21,
   "metadata": {},
   "outputs": [
    {
     "name": "stdout",
     "output_type": "stream",
     "text": [
      "2\n",
      "0\n",
      "1\n"
     ]
    }
   ],
   "source": [
    "tupla_nomes = ('Marlene','Zezinho','Marlene','Cibele','Zuely')\n",
    "print(tupla_nomes.count('Marlene'))\n",
    "print(tupla_nomes.count('Suely'))\n",
    "print(tupla_nomes.count('Zezinho'))"
   ]
  },
  {
   "cell_type": "code",
   "execution_count": 22,
   "metadata": {},
   "outputs": [
    {
     "name": "stdout",
     "output_type": "stream",
     "text": [
      "3\n"
     ]
    }
   ],
   "source": [
    "tupla_numero = (1,2,2,3,4,4,4,5)\n",
    "print(tupla_numero.count(4))"
   ]
  }
 ],
 "metadata": {
  "kernelspec": {
   "display_name": "Python 3",
   "language": "python",
   "name": "python3"
  },
  "language_info": {
   "codemirror_mode": {
    "name": "ipython",
    "version": 3
   },
   "file_extension": ".py",
   "mimetype": "text/x-python",
   "name": "python",
   "nbconvert_exporter": "python",
   "pygments_lexer": "ipython3",
   "version": "3.12.2"
  }
 },
 "nbformat": 4,
 "nbformat_minor": 2
}
